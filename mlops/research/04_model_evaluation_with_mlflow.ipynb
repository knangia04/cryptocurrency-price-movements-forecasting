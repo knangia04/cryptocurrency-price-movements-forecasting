{
 "cells": [
  {
   "cell_type": "code",
   "execution_count": 1,
   "metadata": {},
   "outputs": [],
   "source": [
    "import os\n",
    "import time\n",
    "from src.lstm_price_prediction.components.rnn_model import rnn_models\n",
    "from src.lstm_price_prediction.constants import *\n",
    "from src.lstm_price_prediction.utils.common import read_yaml, create_directories\n",
    "\n",
    " "
   ]
  },
  {
   "cell_type": "code",
   "execution_count": 2,
   "metadata": {},
   "outputs": [
    {
     "data": {
      "text/plain": [
       "'c:\\\\Users\\\\howar\\\\Documents\\\\UIUC\\\\IE 421\\\\project\\\\group_10_project\\\\mlops'"
      ]
     },
     "execution_count": 2,
     "metadata": {},
     "output_type": "execute_result"
    }
   ],
   "source": [
    "%pwd"
   ]
  },
  {
   "cell_type": "code",
   "execution_count": 3,
   "metadata": {},
   "outputs": [],
   "source": [
    "os.chdir(\"../\")"
   ]
  },
  {
   "cell_type": "code",
   "execution_count": 4,
   "metadata": {},
   "outputs": [
    {
     "data": {
      "text/plain": [
       "'c:\\\\Users\\\\howar\\\\Documents\\\\UIUC\\\\IE 421\\\\project\\\\group_10_project'"
      ]
     },
     "execution_count": 4,
     "metadata": {},
     "output_type": "execute_result"
    }
   ],
   "source": [
    "%pwd"
   ]
  },
  {
   "cell_type": "code",
   "execution_count": 65,
   "metadata": {},
   "outputs": [],
   "source": [
    "os.environ[\"MLFLOW_TRACKING_URI\"]=\"https://dagshub.com/wko21/ie421_hft_spring_2024_group_10.mlflow\"\n",
    "\n",
    "os.environ[\"MLFLOW_TRACKING_USERNAME\"]=\"wko21\"\n",
    "os.environ[\"MLFLOW_TRACKING_PASSWORD\"]=\"30a377a6d3c2bbba1e855843d402016843cbd34b\""
   ]
  },
  {
   "cell_type": "code",
   "execution_count": 6,
   "metadata": {},
   "outputs": [],
   "source": [
    "import torch"
   ]
  },
  {
   "cell_type": "code",
   "execution_count": 29,
   "metadata": {},
   "outputs": [
    {
     "name": "stdout",
     "output_type": "stream",
     "text": [
      "[2024-05-12 04:54:08,017: INFO: common: yaml file: mlops\\config\\config.yaml loaded successfully]\n",
      "[2024-05-12 04:54:08,020: INFO: common: yaml file: mlops\\params.yaml loaded successfully]\n"
     ]
    }
   ],
   "source": [
    "params_filepath = PARAMS_FILE_PATH\n",
    "config_filepath = CONFIG_FILE_PATH\n",
    "device = torch.device(\"cuda\" if torch.cuda.is_available() else \"cpu\")\n",
    "config = read_yaml(config_filepath)\n",
    "params = read_yaml(params_filepath)\n",
    "trained_model_config = config.training\n",
    "model = torch.load(trained_model_config.trained_model_path)"
   ]
  },
  {
   "cell_type": "code",
   "execution_count": 8,
   "metadata": {},
   "outputs": [],
   "source": [
    "from dataclasses import dataclass\n",
    "from pathlib import Path\n",
    "\n",
    "@dataclass(frozen=True)\n",
    "class EvaluationConfig:\n",
    "    path_of_model: Path\n",
    "    training_data: Path\n",
    "    all_params: dict\n",
    "    mlflow_uri: str\n",
    "    params_batch_size: int"
   ]
  },
  {
   "cell_type": "code",
   "execution_count": 12,
   "metadata": {},
   "outputs": [],
   "source": [
    "class ConfigurationManager:\n",
    "    def __init__(\n",
    "        self, \n",
    "        config_filepath = CONFIG_FILE_PATH,\n",
    "        params_filepath = PARAMS_FILE_PATH):\n",
    "        self.config = read_yaml(config_filepath)\n",
    "        self.params = read_yaml(params_filepath)\n",
    "        create_directories([self.config.artifacts_root])\n",
    "\n",
    "    \n",
    "    def get_evaluation_config(self) -> EvaluationConfig:\n",
    "        eval_config = EvaluationConfig(\n",
    "            path_of_model=self.config.training.trained_model_path,\n",
    "            training_data=\"20220801_book_updates.csv\",\n",
    "            mlflow_uri=\"https://dagshub.com/wko21/ie421_hft_spring_2024_group_10.mlflow\",\n",
    "            all_params=self.params,\n",
    "            params_batch_size=self.params.BATCH_SIZE\n",
    "        )\n",
    "        return eval_config\n",
    "\n",
    "\n"
   ]
  },
  {
   "cell_type": "code",
   "execution_count": 56,
   "metadata": {},
   "outputs": [],
   "source": [
    "import torch\n",
    "from pathlib import Path\n",
    "import mlflow\n",
    "import mlflow.pytorch\n",
    "from urllib.parse import urlparse\n",
    "from src.lstm_price_prediction.constants import *\n",
    "from src.lstm_price_prediction.utils.common import read_yaml, create_directories, save_json\n",
    "from src.lstm_price_prediction.components.rnn_model import preprocess, training_dataset \n",
    "import torch\n",
    "import pandas as pd\n",
    "import torch.nn.functional as F\n",
    "from sklearn.metrics import *"
   ]
  },
  {
   "cell_type": "code",
   "execution_count": 67,
   "metadata": {},
   "outputs": [],
   "source": [
    "class Evaluation:\n",
    "    def __init__(self, config: EvaluationConfig):\n",
    "        self.config = config\n",
    "        self.criterion = torch.nn.CrossEntropyLoss()\n",
    "        self.device = torch.device(\"cuda\" if torch.cuda.is_available() else \"cpu\")\n",
    "        params_filepath = PARAMS_FILE_PATH\n",
    "        self.params = read_yaml(params_filepath)\n",
    "        self.model_path = self.config.path_of_model\n",
    "        df = pd.read_csv(self.params.TRAIN_DATA)\n",
    "        print('Preprocessing data....')\n",
    "        new_df = preprocess.process_data(df)\n",
    "        dataset = training_dataset.OrderBookDataset(new_df, self.params.SEQUENCE_LENGTH, self.params.PREDICT_EVENTS)\n",
    "        print('Data preprocessing complete')\n",
    "        train_loader, val_loader, test_loader = training_dataset.get_data_loaders(dataset, self.params.TEST_SPLIT, self.params.BATCH_SIZE)\n",
    "        self.train_loader = train_loader\n",
    "        self.val_loader = val_loader\n",
    "        self.test_loader = test_loader\n",
    "        \n",
    "\n",
    "    def evaluation(self):\n",
    "        self.load_model(self.model_path)\n",
    "        self.model.eval()\n",
    "        all_y_true = torch.LongTensor()\n",
    "        all_y_pred = torch.LongTensor()\n",
    "        val_loss = 0\n",
    "        for x, y in self.test_loader:\n",
    "            x = x.float()  # Convert input data to torch.float32 type\n",
    "            y = y.long()  # Convert target data to torch.float32 type\n",
    "            x = x.to(device)\n",
    "            y = y.to(device)\n",
    "            y_hat = self.model(x)\n",
    "            loss = self.criterion(y_hat, y)\n",
    "            val_loss += loss.item()\n",
    "            y_hat = F.softmax(y_hat, dim=1)\n",
    "            y_pred = torch.argmax(y_hat, dim=1)\n",
    "            all_y_true = torch.cat((all_y_true, y.to('cpu').long()), dim=0)\n",
    "            all_y_pred = torch.cat((all_y_pred,  y_pred.to('cpu').long()), dim=0)\n",
    "        val_loss = val_loss / len(self.test_loader)\n",
    "        acc,  precision, recall, f1 = Evaluation.classification_metrics(all_y_pred.detach().numpy(), \n",
    "                                                                all_y_true.detach().numpy())\n",
    "        self.score = [val_loss,acc,f1]\n",
    "    \n",
    "    @staticmethod\n",
    "    def classification_metrics(Y_pred, Y_true):\n",
    "        acc, precision, recall, f1score = accuracy_score(Y_true, Y_pred), \\\n",
    "                                            precision_score(Y_true, Y_pred, average='weighted', zero_division = 1), \\\n",
    "                                            recall_score(Y_true, Y_pred, average='weighted'), \\\n",
    "                                            f1_score(Y_true, Y_pred, average='weighted')\n",
    "        return acc,  precision, recall, f1score\n",
    "    \n",
    "    def load_model(self, path: Path) -> torch.nn.Module:\n",
    "        self.model = rnn_models.LSTMModel(self.params.INPUT_SIZE, self.params.HIDDEN_SIZE ,self.params.NUM_LAYERS, self.params.FC_LAYERS_SIZE).to(self.device)\n",
    "        self.model.load_state_dict(torch.load(path))\n",
    "\n",
    "    def save_score(self):\n",
    "        scores = {\"loss\": self.score[0], \"accuracy\": self.score[1], \"f1score\": self.score[2]}\n",
    "        save_json(path=Path(\"scores.json\"), data=scores)\n",
    "\n",
    "    \n",
    "    def log_into_mlflow(self):\n",
    "        mlflow.set_registry_uri(self.config.mlflow_uri)\n",
    "        tracking_url_type_store = urlparse(mlflow.get_tracking_uri()).scheme\n",
    "        \n",
    "        with mlflow.start_run():\n",
    "            mlflow.log_params(self.config.all_params)\n",
    "            mlflow.log_metrics(\n",
    "                {\"loss\": self.score[0], \"accuracy\": self.score[1]}\n",
    "            )\n",
    "            # Model registry does not work with file store\n",
    "            if tracking_url_type_store != \"file\":\n",
    "\n",
    "                # Register the model\n",
    "                # There are other ways to use the Model Registry, which depends on the use case,\n",
    "                # please refer to the doc for more information:\n",
    "                # https://mlflow.org/docs/latest/model-registry.html#api-workflow\n",
    "                mlflow.pytorch.log_model(self.model, \"model\", registered_model_name=\"LSTMModel\")\n",
    "            else:\n",
    "                mlflow.pytorch.log_model(self.model, \"model\")\n"
   ]
  },
  {
   "cell_type": "code",
   "execution_count": 68,
   "metadata": {},
   "outputs": [
    {
     "name": "stdout",
     "output_type": "stream",
     "text": [
      "[2024-05-12 08:06:42,465: INFO: common: yaml file: mlops\\config\\config.yaml loaded successfully]\n",
      "[2024-05-12 08:06:42,467: INFO: common: yaml file: mlops\\params.yaml loaded successfully]\n",
      "[2024-05-12 08:06:42,469: INFO: common: created directory at: artifacts]\n",
      "[2024-05-12 08:06:42,470: INFO: common: yaml file: mlops\\params.yaml loaded successfully]\n",
      "Preprocessing data....\n",
      "Data preprocessing complete\n"
     ]
    },
    {
     "name": "stderr",
     "output_type": "stream",
     "text": [
      "c:\\Users\\howar\\anaconda3\\Lib\\site-packages\\_distutils_hack\\__init__.py:33: UserWarning: Setuptools is replacing distutils.\n",
      "  warnings.warn(\"Setuptools is replacing distutils.\")\n",
      "Successfully registered model 'LSTMModel'.\n",
      "2024/05/12 08:07:35 INFO mlflow.tracking._model_registry.client: Waiting up to 300 seconds for model version to finish creation.                     Model name: LSTMModel, version 1\n",
      "Created version '1' of model 'LSTMModel'.\n"
     ]
    }
   ],
   "source": [
    "try:\n",
    "    config = ConfigurationManager()\n",
    "    eval_config = config.get_evaluation_config()\n",
    "    evaluation = Evaluation(eval_config)\n",
    "    evaluation.evaluation()\n",
    "    evaluation.log_into_mlflow()\n",
    "\n",
    "except Exception as e:\n",
    "   raise e"
   ]
  },
  {
   "cell_type": "code",
   "execution_count": null,
   "metadata": {},
   "outputs": [],
   "source": []
  },
  {
   "cell_type": "markdown",
   "metadata": {},
   "source": [
    " \n",
    "\n",
    " "
   ]
  },
  {
   "cell_type": "code",
   "execution_count": null,
   "metadata": {},
   "outputs": [],
   "source": []
  },
  {
   "cell_type": "code",
   "execution_count": null,
   "metadata": {},
   "outputs": [],
   "source": []
  }
 ],
 "metadata": {
  "kernelspec": {
   "display_name": "kidney",
   "language": "python",
   "name": "python3"
  },
  "language_info": {
   "codemirror_mode": {
    "name": "ipython",
    "version": 3
   },
   "file_extension": ".py",
   "mimetype": "text/x-python",
   "name": "python",
   "nbconvert_exporter": "python",
   "pygments_lexer": "ipython3",
   "version": "3.11.5"
  },
  "orig_nbformat": 4
 },
 "nbformat": 4,
 "nbformat_minor": 2
}
