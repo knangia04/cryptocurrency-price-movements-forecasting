{
 "cells": [
  {
   "cell_type": "code",
   "execution_count": 1,
   "metadata": {},
   "outputs": [],
   "source": [
    "import os"
   ]
  },
  {
   "cell_type": "code",
   "execution_count": 2,
   "metadata": {},
   "outputs": [
    {
     "data": {
      "text/plain": [
       "'c:\\\\Users\\\\howar\\\\Documents\\\\UIUC\\\\IE 421\\\\project\\\\group_10_project\\\\mlops\\\\research'"
      ]
     },
     "execution_count": 2,
     "metadata": {},
     "output_type": "execute_result"
    }
   ],
   "source": [
    "%pwd"
   ]
  },
  {
   "cell_type": "code",
   "execution_count": 3,
   "metadata": {},
   "outputs": [],
   "source": [
    "os.chdir(\"../\")"
   ]
  },
  {
   "cell_type": "code",
   "execution_count": 4,
   "metadata": {},
   "outputs": [
    {
     "data": {
      "text/plain": [
       "'c:\\\\Users\\\\howar\\\\Documents\\\\UIUC\\\\IE 421\\\\project\\\\group_10_project\\\\mlops'"
      ]
     },
     "execution_count": 4,
     "metadata": {},
     "output_type": "execute_result"
    }
   ],
   "source": [
    "%pwd"
   ]
  },
  {
   "cell_type": "code",
   "execution_count": 5,
   "metadata": {},
   "outputs": [],
   "source": [
    "from dataclasses import dataclass\n",
    "from pathlib import Path\n",
    "\n",
    "\n",
    "@dataclass(frozen=True)\n",
    "class TrainingConfig:\n",
    "    root_dir: Path\n",
    "    trained_model_path: Path\n",
    "    untrained_model_path: Path\n",
    "    training_data: Path\n",
    "    params_epochs: int\n",
    "    params_batch_size: int\n",
    "    params_predict_events: int\n",
    "    params_sequence_length: int\n",
    "    params_val_interval: int\n",
    "@dataclass(frozen=True)\n",
    "class PrepareModelConfig:\n",
    "    root_dir: Path\n",
    "    model_path: Path\n",
    "    params_input_size: int\n",
    "    params_hidden_size: int\n",
    "    params_num_layers: int\n",
    "    params_fc_layers_size: int\n",
    "    params_learning_rate: float"
   ]
  },
  {
   "cell_type": "code",
   "execution_count": 2,
   "metadata": {},
   "outputs": [
    {
     "ename": "ModuleNotFoundError",
     "evalue": "No module named 'src.lstm_price_prediction'",
     "output_type": "error",
     "traceback": [
      "\u001b[1;31m---------------------------------------------------------------------------\u001b[0m",
      "\u001b[1;31mModuleNotFoundError\u001b[0m                       Traceback (most recent call last)",
      "Cell \u001b[1;32mIn[2], line 1\u001b[0m\n\u001b[1;32m----> 1\u001b[0m \u001b[38;5;28;01mfrom\u001b[39;00m \u001b[38;5;21;01msrc\u001b[39;00m\u001b[38;5;21;01m.\u001b[39;00m\u001b[38;5;21;01mlstm_price_prediction\u001b[39;00m\u001b[38;5;21;01m.\u001b[39;00m\u001b[38;5;21;01mconstants\u001b[39;00m \u001b[38;5;28;01mimport\u001b[39;00m \u001b[38;5;241m*\u001b[39m\n\u001b[0;32m      2\u001b[0m \u001b[38;5;28;01mfrom\u001b[39;00m \u001b[38;5;21;01msrc\u001b[39;00m\u001b[38;5;21;01m.\u001b[39;00m\u001b[38;5;21;01mlstm_price_prediction\u001b[39;00m\u001b[38;5;21;01m.\u001b[39;00m\u001b[38;5;21;01mutils\u001b[39;00m\u001b[38;5;21;01m.\u001b[39;00m\u001b[38;5;21;01mcommon\u001b[39;00m \u001b[38;5;28;01mimport\u001b[39;00m read_yaml, create_directories\n\u001b[0;32m      3\u001b[0m \u001b[38;5;28;01mfrom\u001b[39;00m \u001b[38;5;21;01msrc\u001b[39;00m\u001b[38;5;21;01m.\u001b[39;00m\u001b[38;5;21;01mlstm_price_prediction\u001b[39;00m\u001b[38;5;21;01m.\u001b[39;00m\u001b[38;5;21;01mcomponents\u001b[39;00m\u001b[38;5;21;01m.\u001b[39;00m\u001b[38;5;21;01mrnn_model\u001b[39;00m \u001b[38;5;28;01mimport\u001b[39;00m preprocess, training_dataset \n",
      "\u001b[1;31mModuleNotFoundError\u001b[0m: No module named 'src.lstm_price_prediction'"
     ]
    }
   ],
   "source": [
    "from src.lstm_price_prediction.constants import *\n",
    "from src.lstm_price_prediction.utils.common import read_yaml, create_directories\n",
    "from src.lstm_price_prediction.components.rnn_model import preprocess, training_dataset \n",
    "import torch\n",
    "import pandas as pd"
   ]
  },
  {
   "cell_type": "code",
   "execution_count": 7,
   "metadata": {},
   "outputs": [],
   "source": [
    "class ConfigurationManager:\n",
    "    def __init__(\n",
    "        self,\n",
    "        config_filepath = CONFIG_FILE_PATH,\n",
    "        params_filepath = PARAMS_FILE_PATH):\n",
    "        self.config = read_yaml(config_filepath)\n",
    "        \n",
    "        self.params = read_yaml(params_filepath)\n",
    "\n",
    "        create_directories([self.config.artifacts_root])\n",
    "\n",
    "        \n",
    "    def get_prepare_model_config(self) -> PrepareModelConfig:\n",
    "        config = self.config.prepare_model\n",
    "        \n",
    "        create_directories([config.root_dir])\n",
    "\n",
    "        prepare_model_config = PrepareModelConfig(\n",
    "            root_dir=Path(config.root_dir),\n",
    "            model_path=Path(config.model_path),\n",
    "            params_input_size = self.params.INPUT_SIZE,\n",
    "            params_hidden_size = self.params.HIDDEN_SIZE,\n",
    "            params_num_layers = self.params.NUM_LAYERS,\n",
    "            params_fc_layers_size = self.params.FC_LAYERS_SIZE,\n",
    "            params_learning_rate = self.params.LEARNING_RATE\n",
    "   \n",
    "        )\n",
    "\n",
    "        return prepare_model_config\n",
    "    def get_training_config(self) -> TrainingConfig:\n",
    "        training = self.config.training\n",
    "        params = self.params\n",
    "        untrained_model = self.config.prepare_model\n",
    "        training_data_path = \"..data/20220801_book_updates.csv\"\n",
    "        create_directories([\n",
    "            Path(training.root_dir)\n",
    "        ])\n",
    "\n",
    "        training_config = TrainingConfig(\n",
    "            root_dir=Path(training.root_dir),\n",
    "            untrained_model_path=Path(untrained_model.model_path),\n",
    "            trained_model_path=Path(training.trained_model_path),\n",
    "            training_data=training_data_path,\n",
    "            params_epochs=params.EPOCHS,\n",
    "            params_batch_size=params.BATCH_SIZE,\n",
    "            params_sequence_length=params.SEQUENCE_LENGTH,\n",
    "            params_predict_events=params.PREDICT_EVENTS,\n",
    "            params_val_interval=params.VAL_INTERVAL\n",
    "        )\n",
    "\n",
    "        return training_config"
   ]
  },
  {
   "cell_type": "code",
   "execution_count": 8,
   "metadata": {},
   "outputs": [],
   "source": [
    "import os\n",
    "import urllib.request as request\n",
    "from zipfile import ZipFile\n",
    "import tensorflow as tf\n",
    "import time\n",
    "from src.lstm_price_prediction.components.rnn_model import rnn_models\n",
    "import torch.nn as nn\n",
    "from tqdm import tqdm\n",
    " "
   ]
  },
  {
   "cell_type": "code",
   "execution_count": 9,
   "metadata": {},
   "outputs": [],
   "source": [
    "class Training:\n",
    "    def __init__(self, config: TrainingConfig, model_config: PrepareModelConfig):\n",
    "        self.config = config\n",
    "        self.model_config = model_config\n",
    "        self.device = torch.device(\"cuda\" if torch.cuda.is_available() else \"cpu\")\n",
    "        params_filepath = PARAMS_FILE_PATH\n",
    "        self.params = read_yaml(params_filepath)\n",
    "        \n",
    "    \n",
    "    def get_base_model(self):\n",
    "        self.model = rnn_models.LSTMModel(self.model_config.params_input_size,self.model_config.params_hidden_size ,self.model_config.params_num_layers, self.model_config.params_fc_layers_size).to(self.device)\n",
    "        self.model.load_state_dict(torch.load(self.model_config.model_path))\n",
    "        self.optimizer = torch.optim.Adam(self.model.parameters(), lr=self.model_config.params_learning_rate)\n",
    "        self.criterion = torch.nn.CrossEntropyLoss()\n",
    "        \n",
    "    def train_valid_generator(self):\n",
    "        \n",
    "        df = pd.read_csv(self.params.TRAIN_DATA)\n",
    "        print('Preprocessing data....')\n",
    "        new_df = preprocess.process_data(df)\n",
    "        dataset = training_dataset.OrderBookDataset(new_df, self.params.SEQUENCE_LENGTH, self.params.PREDICT_EVENTS)\n",
    "        print('Data preprocessing complete')\n",
    "        train_loader, val_loader, test_loader = training_dataset.get_data_loaders(dataset, self.params.TEST_SPLIT, self.params.BATCH_SIZE)\n",
    "        self.train_loader = train_loader\n",
    "        self.val_loader = val_loader\n",
    "        self.test_loader = test_loader\n",
    "\n",
    "\n",
    "\n",
    "    \n",
    "\n",
    "    \n",
    "    @staticmethod\n",
    "    def save_model(path: Path, model: torch.nn.Module):\n",
    "        torch.save(model.state_dict(), path)\n",
    "\n",
    "\n",
    "\n",
    "    \n",
    "    def train(self):\n",
    "        # Train the model in one epoch\n",
    "        self.model.train()\n",
    "        train_loss = 0\n",
    "        for i, (x, y) in enumerate(tqdm(self.train_loader, desc=\"Training\")):\n",
    "            x = x.float()  # Convert input data to torch.float32 type\n",
    "            y = y.long()  # Convert target data to torch.float32 type\n",
    "            x = x.to(self.device)\n",
    "            y = y.to(self.device)\n",
    "            self.optimizer.zero_grad()\n",
    "            y_hat = self.model(x)\n",
    "            y_hat = y_hat.to(torch.float32)\n",
    "            loss = self.criterion(y_hat, y)\n",
    "            loss.backward()\n",
    "            nn.utils.clip_grad_norm_(self.model.parameters(), 0.25)\n",
    "            self.optimizer.step()\n",
    "            train_loss += loss.item()\n",
    "        train_loss = train_loss / len(self.train_loader)\n",
    "\n",
    "        self.save_model(\n",
    "            path=self.config.trained_model_path,\n",
    "            model=self.model\n",
    "        )\n",
    "\n"
   ]
  },
  {
   "cell_type": "code",
   "execution_count": 10,
   "metadata": {},
   "outputs": [
    {
     "name": "stdout",
     "output_type": "stream",
     "text": [
      "[2024-05-11 04:40:49,677: INFO: common: yaml file: config\\config.yaml loaded successfully]\n",
      "[2024-05-11 04:40:49,679: INFO: common: yaml file: params.yaml loaded successfully]\n",
      "[2024-05-11 04:40:49,681: INFO: common: created directory at: artifacts]\n",
      "[2024-05-11 04:40:49,681: INFO: common: created directory at: artifacts\\training]\n",
      "[2024-05-11 04:40:49,682: INFO: common: created directory at: artifacts/prepare_model]\n",
      "[2024-05-11 04:40:49,684: INFO: common: yaml file: params.yaml loaded successfully]\n",
      "[2024-05-11 04:40:50,254: INFO: file_utils: TensorFlow version 2.12.0 available.]\n",
      "[2024-05-11 04:40:50,255: INFO: file_utils: PyTorch version 2.1.0 available.]\n",
      "[2024-05-11 04:40:50,355: INFO: modeling_xlnet: Better speed can be achieved with apex installed from https://www.github.com/nvidia/apex .]\n",
      "Preprocessing data....\n",
      "Data preprocessing complete\n"
     ]
    },
    {
     "name": "stderr",
     "output_type": "stream",
     "text": [
      "Training: 100%|██████████| 320/320 [00:07<00:00, 43.25it/s]\n"
     ]
    }
   ],
   "source": [
    "try:\n",
    "    config = ConfigurationManager()\n",
    "    training_config = config.get_training_config()\n",
    "    model_config = config.get_prepare_model_config()\n",
    "    training = Training(config=training_config, model_config=model_config)\n",
    "    training.get_base_model()\n",
    "    training.train_valid_generator()\n",
    "    training.train()\n",
    "    \n",
    "except Exception as e:\n",
    "    raise e"
   ]
  },
  {
   "cell_type": "code",
   "execution_count": null,
   "metadata": {},
   "outputs": [],
   "source": []
  },
  {
   "cell_type": "code",
   "execution_count": null,
   "metadata": {},
   "outputs": [],
   "source": []
  }
 ],
 "metadata": {
  "kernelspec": {
   "display_name": "chest",
   "language": "python",
   "name": "python3"
  },
  "language_info": {
   "codemirror_mode": {
    "name": "ipython",
    "version": 3
   },
   "file_extension": ".py",
   "mimetype": "text/x-python",
   "name": "python",
   "nbconvert_exporter": "python",
   "pygments_lexer": "ipython3",
   "version": "3.11.5"
  }
 },
 "nbformat": 4,
 "nbformat_minor": 2
}
